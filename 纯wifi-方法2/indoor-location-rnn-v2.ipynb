{
 "metadata": {
  "kernelspec": {
   "language": "python",
   "display_name": "Python 3",
   "name": "python3"
  },
  "language_info": {
   "name": "python",
   "version": "3.7.9",
   "mimetype": "text/x-python",
   "codemirror_mode": {
    "name": "ipython",
    "version": 3
   },
   "pygments_lexer": "ipython3",
   "nbconvert_exporter": "python",
   "file_extension": ".py"
  },
  "kaggle": {
   "accelerator": "gpu",
   "dataSources": [
    {
     "sourceId": 57310559,
     "sourceType": "kernelVersion"
    },
    {
     "sourceId": 59021244,
     "sourceType": "kernelVersion"
    }
   ],
   "dockerImageVersionId": 30068,
   "isInternetEnabled": true,
   "language": "python",
   "sourceType": "notebook",
   "isGpuEnabled": true
  }
 },
 "nbformat_minor": 4,
 "nbformat": 4,
 "cells": [
  {
   "cell_type": "code",
   "source": "import numpy as np\nimport pandas as pd\nimport pickle\nfrom torch.utils.data import Dataset\nimport time\nimport torch\nfrom fastai.text.all import *\nfrom sklearn.preprocessing import MinMaxScaler",
   "metadata": {
    "_uuid": "babc2c8d-ce7f-431a-93a2-f253c3c93152",
    "_cell_guid": "b2bcffe2-fe88-454d-a4f6-0ad2d5817b46",
    "trusted": true,
    "execution": {
     "iopub.status.busy": "2025-03-24T06:46:48.942362Z",
     "iopub.execute_input": "2025-03-24T06:46:48.942668Z",
     "iopub.status.idle": "2025-03-24T06:46:48.948068Z",
     "shell.execute_reply.started": "2025-03-24T06:46:48.942635Z",
     "shell.execute_reply": "2025-03-24T06:46:48.947131Z"
    }
   },
   "outputs": [],
   "execution_count": 44
  },
  {
   "cell_type": "markdown",
   "source": "# functions",
   "metadata": {}
  },
  {
   "cell_type": "code",
   "source": "def load_pickle(filename):\n    infile = open(filename,'rb')\n    obj = pickle.load(infile)\n    infile.close()\n    return obj\n\ndef save_pickle(obj, filename):\n    outfile = open(filename,'wb')\n    pickle.dump(obj, outfile)\n    outfile.close()\n    \n    \n    \ndef comp_metric(xhat, yhat, fhat, x, y, f):\n    intermediate = torch.sqrt(torch.pow(xhat-x, 2) + torch.pow(yhat-y, 2)) + 15 * torch.abs(fhat-f)\n#     intermediate = intermediate * distrib\n    return intermediate.sum()/xhat.shape[0]/xhat.shape[1]\n\ndef comp_metric2(xhat, yhat, fhat, x, y, f):\n    intermediate = torch.sqrt(torch.pow(xhat-x, 2) + torch.pow(yhat-y, 2)) + 15 * torch.abs(fhat-f)\n    return intermediate.sum()/xhat.shape[0]\n\n\ndef loss_fn(outputs, labels):\n    xhat = outputs[:, :, 1]\n    yhat = outputs[:, :, 2]\n    fhat = outputs[:, :, 0]\n    \n    x = labels[:, :, 1]\n    y = labels[:, :, 2]\n    f = labels[:, :, 0]\n\n    return comp_metric(xhat, yhat, fhat, x, y, f)\n\ndef metric_fn(outputs, labels):\n    xhat = outputs[:, -1, 1]\n    yhat = outputs[:, -1, 2]\n    fhat = outputs[:, -1, 0]\n\n    \n    x = labels[:, -1, 1]\n    y = labels[:, -1, 2]\n    f = labels[:, -1, 0]\n\n    return comp_metric2(xhat, yhat, fhat, x, y, f)\n\n\n\nclass StopAt(Callback):\n    \"\"\"stops training after epoch {stop}. when stop is 1, it will train for two cycles (0 and 1)\"\"\"\n    def __init__(self, stop):\n        self.stop = stop\n        super().__init__()\n\n    def before_epoch(self):\n        if self.epoch == self.stop + 1:\n          raise CancelFitException()",
   "metadata": {
    "trusted": true,
    "execution": {
     "iopub.status.busy": "2025-03-24T06:46:48.949615Z",
     "iopub.execute_input": "2025-03-24T06:46:48.949866Z",
     "iopub.status.idle": "2025-03-24T06:46:48.969692Z",
     "shell.execute_reply.started": "2025-03-24T06:46:48.949838Z",
     "shell.execute_reply": "2025-03-24T06:46:48.968968Z"
    }
   },
   "outputs": [],
   "execution_count": 45
  },
  {
   "cell_type": "markdown",
   "source": "# useful infos",
   "metadata": {}
  },
  {
   "cell_type": "code",
   "source": "device = \"cuda\" if torch.cuda.is_available() else \"cpu\"\nprint(\"Using {} device\".format(device))",
   "metadata": {
    "trusted": true,
    "execution": {
     "iopub.status.busy": "2025-03-24T06:46:48.970758Z",
     "iopub.execute_input": "2025-03-24T06:46:48.971020Z",
     "iopub.status.idle": "2025-03-24T06:46:48.985346Z",
     "shell.execute_reply.started": "2025-03-24T06:46:48.970998Z",
     "shell.execute_reply": "2025-03-24T06:46:48.984646Z"
    }
   },
   "outputs": [
    {
     "name": "stdout",
     "text": "Using cuda device\n",
     "output_type": "stream"
    }
   ],
   "execution_count": 46
  },
  {
   "cell_type": "markdown",
   "source": "# data",
   "metadata": {}
  },
  {
   "cell_type": "code",
   "source": "%%time\ndata = load_pickle('../input/indoor-location-rnn-data-v2/data.pickle')\n#test_data = load_pickle('../input/indoor-location-rnn-test-data-v2/test-data.pickle')\npath_data = load_pickle('../input/indoor-location-rnn-data-v2/path_data.pickle')",
   "metadata": {
    "trusted": true,
    "execution": {
     "iopub.status.busy": "2025-03-24T06:46:48.987505Z",
     "iopub.execute_input": "2025-03-24T06:46:48.987767Z",
     "iopub.status.idle": "2025-03-24T06:46:53.089948Z",
     "shell.execute_reply.started": "2025-03-24T06:46:48.987745Z",
     "shell.execute_reply": "2025-03-24T06:46:53.089091Z"
    }
   },
   "outputs": [
    {
     "name": "stdout",
     "text": "CPU times: user 3.1 s, sys: 971 ms, total: 4.07 s\nWall time: 4.09 s\n",
     "output_type": "stream"
    }
   ],
   "execution_count": 47
  },
  {
   "cell_type": "code",
   "source": "%%time\n# normalize X\nrssi_list = []\nfor key in data:\n    rssis = data[key][0][:, -1]\n    rssi_list.append(rssis)\nrssi_list = np.hstack(rssi_list).reshape(-1, 1)\n\nscaler = MinMaxScaler()\nscaler.fit(rssi_list)\n\nfor key in data:\n    X = data[key][0].astype('float32')\n    X[:, -1:] = scaler.transform(X[:, -1:])\n    data[key] = (X, data[key][1].astype('float32'))\n    \n# for key in test_data:\n#     X = test_data[key][0].astype('float32')\n#     X[:, -1:] = scaler.transform(X[:, -1:])\n#     test_data[key] = (X, test_data[key][1].astype('float32'))",
   "metadata": {
    "trusted": true,
    "execution": {
     "iopub.status.busy": "2025-03-24T06:46:53.093074Z",
     "iopub.execute_input": "2025-03-24T06:46:53.093412Z",
     "iopub.status.idle": "2025-03-24T06:47:30.676489Z",
     "shell.execute_reply.started": "2025-03-24T06:46:53.093375Z",
     "shell.execute_reply": "2025-03-24T06:47:30.675762Z"
    },
    "ExecuteTime": {
     "end_time": "2025-03-24T07:11:09.235278Z",
     "start_time": "2025-03-24T07:11:08.907804Z"
    }
   },
   "outputs": [
    {
     "ename": "NameError",
     "evalue": "name 'data' is not defined",
     "output_type": "error",
     "traceback": [
      "\u001B[31m---------------------------------------------------------------------------\u001B[39m",
      "\u001B[31mNameError\u001B[39m                                 Traceback (most recent call last)",
      "\u001B[36mFile \u001B[39m\u001B[32m<timed exec>:3\u001B[39m\n",
      "\u001B[31mNameError\u001B[39m: name 'data' is not defined"
     ]
    }
   ],
   "execution_count": 1
  },
  {
   "cell_type": "code",
   "source": "# seq_lens = []\n# for key in train_data:\n#     seq_lens.append(train_data[key][0].shape[0])\n# pd.Series(seq_lens).describe()\nseq_len = 174",
   "metadata": {
    "trusted": true,
    "execution": {
     "iopub.status.busy": "2025-03-24T06:47:30.677754Z",
     "iopub.execute_input": "2025-03-24T06:47:30.678042Z",
     "iopub.status.idle": "2025-03-24T06:47:30.681046Z",
     "shell.execute_reply.started": "2025-03-24T06:47:30.678014Z",
     "shell.execute_reply": "2025-03-24T06:47:30.680378Z"
    }
   },
   "outputs": [],
   "execution_count": 49
  },
  {
   "cell_type": "code",
   "source": "# bssids = set()\n# for key in train_data:\n#     X = train_data[key][0]\n#     for wifi in X:\n#         bssids.add(wifi[1])\n# max(bssids)\nn_bssids = 63114",
   "metadata": {
    "trusted": true,
    "execution": {
     "iopub.status.busy": "2025-03-24T06:47:30.682206Z",
     "iopub.execute_input": "2025-03-24T06:47:30.682421Z",
     "iopub.status.idle": "2025-03-24T06:47:30.696021Z",
     "shell.execute_reply.started": "2025-03-24T06:47:30.682399Z",
     "shell.execute_reply": "2025-03-24T06:47:30.695292Z"
    }
   },
   "outputs": [],
   "execution_count": 50
  },
  {
   "cell_type": "code",
   "source": "def train_test_split(state=0, mod=10):\n    assert state < mod\n    train_data = {}\n    val_data = {}\n    for path in path_data:\n        if path % mod == state:\n            for key in path_data[path]:\n                val_data[len(val_data)] = data[key]\n        else:\n            for key in path_data[path]:\n                train_data[len(train_data)] = data[key]\n    return train_data, val_data",
   "metadata": {
    "trusted": true,
    "execution": {
     "iopub.status.busy": "2025-03-24T06:47:30.697048Z",
     "iopub.execute_input": "2025-03-24T06:47:30.697371Z",
     "iopub.status.idle": "2025-03-24T06:47:30.706988Z",
     "shell.execute_reply.started": "2025-03-24T06:47:30.697339Z",
     "shell.execute_reply": "2025-03-24T06:47:30.706370Z"
    }
   },
   "outputs": [],
   "execution_count": 51
  },
  {
   "cell_type": "code",
   "source": "# sample_data = {} # data of first building\n# for key in data:\n#     if key == 26507:\n#         break\n#     sample_data[key] = data[key]\n    \n# train_data, val_data = train_test_split(sample_data)",
   "metadata": {
    "trusted": true,
    "execution": {
     "iopub.status.busy": "2025-03-24T06:47:30.707951Z",
     "iopub.execute_input": "2025-03-24T06:47:30.708149Z",
     "iopub.status.idle": "2025-03-24T06:47:30.721955Z",
     "shell.execute_reply.started": "2025-03-24T06:47:30.708130Z",
     "shell.execute_reply": "2025-03-24T06:47:30.721413Z"
    }
   },
   "outputs": [],
   "execution_count": 52
  },
  {
   "cell_type": "code",
   "source": "class MyDataset(Dataset):\n    def __init__(self, data):#data 维度【batch_size,data】,其中data为一个tuple,包含x为二维数组【楼层 bssid rssi】，y为【楼层，经度,纬度】]\n        self.data = data\n        self.padding_len = seq_len\n        self.pad = np.array([[0, n_bssids, -100]] * self.padding_len, dtype='float32')#数据填充，处理长度为14个，如果少于14个，则填充\n        \n    def __len__(self):\n        return len(self.data)\n    \n    def __getitem__(self, idx):\n        X, Y = self.data[idx]\n        original_len = X.shape[0]\n        if original_len == self.padding_len:\n            pass\n        elif original_len > self.padding_len:\n            X = X[:self.padding_len]\n        else:\n            X = np.vstack([X, self.pad[original_len:]])\n#         X = np.pad(X, ((0, self.padding_len - original_len), (0, 0)), constant_values=((0, self.padding_value), (0, 0)))\n#         X[-1][-1] = original_len\n        X = X[:, 1:]#获取x中【楼层 bssid rssi】除去楼层信息\n        Y = np.repeat(Y.reshape(1,3), self.padding_len, axis=0)#用之前y进行padding\n#         Y = np.array([Y] * self.padding_len)\n#         X = torch.tensor(X, device=device)\n#         Y = torch.tensor(Y, device=device)\n        return (X, Y) #x维度【batch_size,padding_len，2(bssid rssi)】y维度【batch_size,3】\n    \n    \n    \nclass EmptyDataset(Dataset):\n    def __init__(self):\n        pass\n\n    def __len__(self):\n        return 0\n\n    def __getitem__(self, idx):\n        return None",
   "metadata": {
    "trusted": true,
    "execution": {
     "iopub.status.busy": "2025-03-24T06:47:30.722964Z",
     "iopub.execute_input": "2025-03-24T06:47:30.723181Z",
     "iopub.status.idle": "2025-03-24T06:47:30.733321Z",
     "shell.execute_reply.started": "2025-03-24T06:47:30.723160Z",
     "shell.execute_reply": "2025-03-24T06:47:30.732735Z"
    }
   },
   "outputs": [],
   "execution_count": 53
  },
  {
   "cell_type": "code",
   "source": "# dset = MyDataset(data)\n# dl = DataLoader(dset, batch_size=64, shuffle=True, device=device)",
   "metadata": {
    "trusted": true,
    "execution": {
     "iopub.status.busy": "2025-03-24T06:47:30.734211Z",
     "iopub.execute_input": "2025-03-24T06:47:30.734422Z",
     "iopub.status.idle": "2025-03-24T06:47:30.748284Z",
     "shell.execute_reply.started": "2025-03-24T06:47:30.734401Z",
     "shell.execute_reply": "2025-03-24T06:47:30.747696Z"
    }
   },
   "outputs": [],
   "execution_count": 54
  },
  {
   "cell_type": "code",
   "source": "# %%time\n# for i in range(len(dset)):\n#     dset[i]",
   "metadata": {
    "trusted": true,
    "execution": {
     "iopub.status.busy": "2025-03-24T06:47:30.749527Z",
     "iopub.execute_input": "2025-03-24T06:47:30.749871Z",
     "iopub.status.idle": "2025-03-24T06:47:30.759504Z",
     "shell.execute_reply.started": "2025-03-24T06:47:30.749839Z",
     "shell.execute_reply": "2025-03-24T06:47:30.758881Z"
    }
   },
   "outputs": [],
   "execution_count": 55
  },
  {
   "cell_type": "code",
   "source": "# pure 391ms\n# padding 44.3s\n# padding with values 58.8s\n# padding by stacking 7.9s\n# padding both X and Y 12.8s",
   "metadata": {
    "trusted": true,
    "execution": {
     "iopub.status.busy": "2025-03-24T06:47:30.760447Z",
     "iopub.execute_input": "2025-03-24T06:47:30.760681Z",
     "iopub.status.idle": "2025-03-24T06:47:30.773699Z",
     "shell.execute_reply.started": "2025-03-24T06:47:30.760640Z",
     "shell.execute_reply": "2025-03-24T06:47:30.773162Z"
    }
   },
   "outputs": [],
   "execution_count": 56
  },
  {
   "cell_type": "markdown",
   "source": "# Model",
   "metadata": {}
  },
  {
   "cell_type": "code",
   "source": "class Model(Module):\n    def __init__(self, vocab_sz, embed_dim, n_hidden, n_layers, p):\n        self.i_h = nn.Embedding(vocab_sz, embed_dim)#bssid embedding\n        self.rnn = nn.LSTM(embed_dim + 1, n_hidden, n_layers, batch_first=True, dropout=p)\n        self.drop = nn.Dropout(p)\n        self.h_o = nn.Linear(n_hidden, 3)\n\n#     def forward(self, x):\n#         raw, _ = self.rnn(torch.cat((self.i_h(x[:, :, 0].long()), x[:, :, 1].unsqueeze(2)), 2))\n#         out = self.drop(raw)\n#         return self.h_o(out)#,raw,out\n    \n    def forward(self, x):\n#         max_size = int(x[:, -1, -1].max())\n#         print(max_size)\n#         x = x[:, :max_size]\n        \n        #self.i_h(x[:, :, 0].long()))为bssid 进行embedding,输出维度【batch_size,padding_len,embed_dim】\n        #x[:, :, 1]维度【batch_size,padding_len】， x[:, :, 1].unsqueeze(2) 输出维度【batch_size,padding_len,1】\n        #torch.cat((self.drop(self.i_h(x[:, :, 0].long())), x[:, :, 1].unsqueeze(2)), 2)维度【batch_size,padding_len,embed_dim+1】\n        #rnn 中padding_size 当做了序列长度！！！！！\n        raw, _ = self.rnn(torch.cat((self.drop(self.i_h(x[:, :, 0].long())), x[:, :, 1].unsqueeze(2)), 2))\n        return self.h_o(self.drop(raw))",
   "metadata": {
    "trusted": true,
    "execution": {
     "iopub.status.busy": "2025-03-24T06:47:30.775762Z",
     "iopub.execute_input": "2025-03-24T06:47:30.776039Z",
     "iopub.status.idle": "2025-03-24T06:47:30.786398Z",
     "shell.execute_reply.started": "2025-03-24T06:47:30.776017Z",
     "shell.execute_reply": "2025-03-24T06:47:30.785698Z"
    }
   },
   "outputs": [],
   "execution_count": 57
  },
  {
   "cell_type": "markdown",
   "source": "# train and predict",
   "metadata": {}
  },
  {
   "cell_type": "code",
   "source": "%%time\n# hyperparameters\nbatch_size = 256\nembed_dim =  128\nhidden_size = (embed_dim + 1 + 3) // 2\nn_layers = 2\np = 0\nlr = 0.015625\ncycle = 32\nstop = 27\n\nfor i in range(10):\n    # dataloader\n    train, val = train_test_split(i)\n    dset_train = MyDataset(train)\n    dl_train = DataLoader(dset_train, batch_size=batch_size, shuffle=True)\n    dset_val = MyDataset(val)\n    dl_val = DataLoader(dset_val, batch_size=batch_size)\n    dls = DataLoaders(dl_train, dl_val, device=device)\n\n    # fit\n    print('batch_size, embed_dim, hidden_size, n_layers, p, lr, cycle, stop')\n    print(batch_size, embed_dim, hidden_size, n_layers, p, lr, cycle, stop)\n    learn = Learner(dls, Model(n_bssids + 1, embed_dim, hidden_size, n_layers, p).to(device), loss_func=loss_fn, metrics=metric_fn) #loss_func损失函数, metrics 评估函数\n    #cycle 训练周期\n    #lr 学习率最大上限\n    learn.fit_one_cycle(cycle, lr, cbs=StopAt(stop))\n    \n    # # predict\n    # dset = MyDataset(test_data)\n    # test_dl = DataLoader(dset, batch_size=batch_size, device=device)\n\n    # preds, _ = learn.get_preds(dl=test_dl)\n    # pred_df = pd.DataFrame(preds[:, -1])\n    # pred_df.to_csv(f'predictions_fold{i}.csv', index=False)",
   "metadata": {
    "trusted": true,
    "execution": {
     "iopub.status.busy": "2025-03-24T06:47:30.787627Z",
     "iopub.execute_input": "2025-03-24T06:47:30.787889Z"
    }
   },
   "outputs": [
    {
     "name": "stdout",
     "text": "batch_size, embed_dim, hidden_size, n_layers, p, lr, cycle, stop\n256 128 66 2 0 0.015625 32 27\n",
     "output_type": "stream"
    },
    {
     "output_type": "display_data",
     "data": {
      "text/plain": "<IPython.core.display.HTML object>",
      "text/html": "\n    <div>\n        <style>\n            /* Turns off some styling */\n            progress {\n                /* gets rid of default border in Firefox and Opera. */\n                border: none;\n                /* Needs to be in here for Safari polyfill so background images work as expected. */\n                background-size: auto;\n            }\n            .progress-bar-interrupted, .progress-bar-interrupted::-webkit-progress-bar {\n                background: #F44336;\n            }\n        </style>\n      <progress value='1' class='' max='32' style='width:300px; height:20px; vertical-align: middle;'></progress>\n      3.12% [1/32 01:32<47:32]\n    </div>\n    \n<table border=\"1\" class=\"dataframe\">\n  <thead>\n    <tr style=\"text-align: left;\">\n      <th>epoch</th>\n      <th>train_loss</th>\n      <th>valid_loss</th>\n      <th>metric_fn</th>\n      <th>time</th>\n    </tr>\n  </thead>\n  <tbody>\n    <tr>\n      <td>0</td>\n      <td>83.068222</td>\n      <td>82.086716</td>\n      <td>81.186676</td>\n      <td>01:32</td>\n    </tr>\n  </tbody>\n</table><p>\n\n    <div>\n        <style>\n            /* Turns off some styling */\n            progress {\n                /* gets rid of default border in Firefox and Opera. */\n                border: none;\n                /* Needs to be in here for Safari polyfill so background images work as expected. */\n                background-size: auto;\n            }\n            .progress-bar-interrupted, .progress-bar-interrupted::-webkit-progress-bar {\n                background: #F44336;\n            }\n        </style>\n      <progress value='682' class='' max='2577' style='width:300px; height:20px; vertical-align: middle;'></progress>\n      26.46% [682/2577 00:23<01:05 81.7484]\n    </div>\n    "
     },
     "metadata": {}
    }
   ],
   "execution_count": null
  },
  {
   "cell_type": "markdown",
   "source": "# ------------------------------------------------",
   "metadata": {}
  }
 ]
}
